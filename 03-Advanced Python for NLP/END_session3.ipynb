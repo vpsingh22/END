{
  "nbformat": 4,
  "nbformat_minor": 0,
  "metadata": {
    "colab": {
      "name": "END_session3",
      "provenance": [],
      "collapsed_sections": []
    },
    "kernelspec": {
      "name": "python3",
      "display_name": "Python 3"
    }
  },
  "cells": [
    {
      "cell_type": "markdown",
      "metadata": {
        "id": "fA3PbHgCO1o9"
      },
      "source": [
        "# Assignment - Session 3\n",
        "\n",
        "### 1. Write a function using only list filter lambda that can tell whether a number is a Fibonacci number or not. You can use a pre-calculated list/dict to store fab numbers till 10000 PTS:100\n",
        "### 2. Using list comprehension (and zip/lambda/etc if required) write five different expressions that: PTS:100\n",
        "\n",
        "    add 2 iterables a and b such that a is even and b is odd\n",
        "    strips every vowel from a string provided (tsai>>t s)\n",
        "    acts like a ReLU function for a 1D array\n",
        "    acts like a sigmoid function for a 1D array\n",
        "    takes a small character string and shifts all characters by 5 (handle boundary conditions) tsai>>yxfn\n",
        "\n",
        "#### 3. A list comprehension expression that takes a ~200 word paragraph (write your own paragraph to check), and checks whether it has any of the swear words mentioned in https://github.com/RobertJGabriel/Google-profanity-words/blob/master/list.txt PTS:200\n",
        "#### 4. Using reduce functions: PTS:100\n",
        "\n",
        "    add only even numbers in a list\n",
        "    find the biggest character in a string (printable ascii characters)\n",
        "    adds every 3rd number in a list\n",
        "\n",
        "#### 5. Using randint, random.choice and list comprehensions, write an expression that generates 15 random KADDAADDDD number plates, where KA is fixed, D stands for a digit, and A stands for Capital alphabets. 10<<DD<<99 & 1000<<DDDD<<9999 PTS:100\n",
        "#### 6. Write the above again from scratch where KA can be changed to DL, and 1000/9999 ranges can be provided.  PTS:100\n",
        "\n",
        "#### 7. Do all of this on a Google Colab File, DeepNote or your own Jupyter Notebook. Once done upload to a \"public\" GitHub repo and then share the link. "
      ]
    },
    {
      "cell_type": "markdown",
      "metadata": {
        "id": "hq-otHLWPorV"
      },
      "source": [
        " ## 1. Write a function using only list filter lambda that can tell whether a number is a Fibonacci number or not. You can use a pre-calculated list/dict to store fab numbers till 10000 PTS:100"
      ]
    },
    {
      "cell_type": "code",
      "metadata": {
        "id": "3O_SKAkdEvCv"
      },
      "source": [
        "\n",
        "def processFibonacciSeries(limit = 10000):\n",
        "    fib, i = [0, 1], 2\n",
        "    while True:\n",
        "        fib.append(fib[i - 1] + fib[i - 2])\n",
        "        if fib[i] + fib[i - 1] > limit:\n",
        "            break\n",
        "        i += 1\n",
        "    return fib"
      ],
      "execution_count": 170,
      "outputs": []
    },
    {
      "cell_type": "code",
      "metadata": {
        "id": "v2k1vso_GUur",
        "outputId": "3d81043b-e68c-494f-a685-13c6e0188d2c",
        "colab": {
          "base_uri": "https://localhost:8080/"
        }
      },
      "source": [
        "fibseries = processFibonacciSeries(10000)\n",
        "fibseries"
      ],
      "execution_count": 171,
      "outputs": [
        {
          "output_type": "execute_result",
          "data": {
            "text/plain": [
              "[0,\n",
              " 1,\n",
              " 1,\n",
              " 2,\n",
              " 3,\n",
              " 5,\n",
              " 8,\n",
              " 13,\n",
              " 21,\n",
              " 34,\n",
              " 55,\n",
              " 89,\n",
              " 144,\n",
              " 233,\n",
              " 377,\n",
              " 610,\n",
              " 987,\n",
              " 1597,\n",
              " 2584,\n",
              " 4181,\n",
              " 6765]"
            ]
          },
          "metadata": {
            "tags": []
          },
          "execution_count": 171
        }
      ]
    },
    {
      "cell_type": "code",
      "metadata": {
        "id": "1iUJMHCzGeN9",
        "outputId": "df7ee756-8379-4b06-ba2d-3c067ef99cfe",
        "colab": {
          "base_uri": "https://localhost:8080/"
        }
      },
      "source": [
        "sample_list = [2, 45, 8, 65, 6765, 233]\n",
        "result = list(filter(lambda x: x in fibseries, sample_list))\n",
        "print(result)"
      ],
      "execution_count": 172,
      "outputs": [
        {
          "output_type": "stream",
          "text": [
            "[2, 8, 6765, 233]\n"
          ],
          "name": "stdout"
        }
      ]
    },
    {
      "cell_type": "markdown",
      "metadata": {
        "id": "VWACsy4EP8bK"
      },
      "source": [
        "## 2. Using list comprehension (and zip/lambda/etc if required) write five different expressions that: PTS:100"
      ]
    },
    {
      "cell_type": "markdown",
      "metadata": {
        "id": "QMPMGK0nQFNy"
      },
      "source": [
        "\n",
        "### a. add 2 iterables a and b such that a is even and b is odd"
      ]
    },
    {
      "cell_type": "code",
      "metadata": {
        "id": "58ZyToENJXcT",
        "outputId": "783f007b-5a92-4bf3-e3e3-09a8c3b8d212",
        "colab": {
          "base_uri": "https://localhost:8080/"
        }
      },
      "source": [
        "import random\n",
        "list1, list2, size1, size2, lowerbound, upperbound = [], [], 20, 15, 1, 100\n",
        "list1 = [random.randint(lowerbound, upperbound) for i in range(0, size1)]\n",
        "list2 = [random.randint(lowerbound, upperbound) for i in range(0, size2)]\n",
        "print(list1, list2)"
      ],
      "execution_count": 173,
      "outputs": [
        {
          "output_type": "stream",
          "text": [
            "[13, 10, 12, 85, 18, 87, 71, 74, 61, 56, 53, 97, 20, 90, 6, 44, 43, 92, 50, 53] [92, 14, 34, 50, 51, 46, 43, 58, 74, 96, 1, 93, 50, 39, 65]\n"
          ],
          "name": "stdout"
        }
      ]
    },
    {
      "cell_type": "code",
      "metadata": {
        "id": "2gHDd5w5UH-4",
        "outputId": "10e5349c-0e2f-4750-e589-c807dbf4270f",
        "colab": {
          "base_uri": "https://localhost:8080/"
        }
      },
      "source": [
        "list1 = [x for x in list1 if x & 0x1]\n",
        "list2 = [y for y in list2 if not y & 0x1]\n",
        "func = lambda x, y : x + y\n",
        "print(func(list1, list2))"
      ],
      "execution_count": 174,
      "outputs": [
        {
          "output_type": "stream",
          "text": [
            "[13, 85, 87, 71, 61, 53, 97, 43, 53, 92, 14, 34, 50, 46, 58, 74, 96, 50]\n"
          ],
          "name": "stdout"
        }
      ]
    },
    {
      "cell_type": "markdown",
      "metadata": {
        "id": "LTUOXI95QWEt"
      },
      "source": [
        "### b. strips every vowel from a string provided (tsai>>t s)"
      ]
    },
    {
      "cell_type": "code",
      "metadata": {
        "id": "wRK0sOyAMSCg",
        "outputId": "5defeea0-cde5-41b5-c751-58b3dd541bd1",
        "colab": {
          "base_uri": "https://localhost:8080/"
        }
      },
      "source": [
        "string = 'The big brown fox jumped over the lazy dog'\n",
        "vowels = ['a', 'e', 'i', 'o', 'u', 'A', 'E', 'I', 'O', 'U']\n",
        "stripped = ''.join([letter for letter in string if letter not in vowels])\n",
        "print(stripped)"
      ],
      "execution_count": 175,
      "outputs": [
        {
          "output_type": "stream",
          "text": [
            "Th bg brwn fx jmpd vr th lzy dg\n"
          ],
          "name": "stdout"
        }
      ]
    },
    {
      "cell_type": "markdown",
      "metadata": {
        "id": "F1cTdfGlQjO0"
      },
      "source": [
        "### c. acts like a ReLU function for a 1D array"
      ]
    },
    {
      "cell_type": "code",
      "metadata": {
        "id": "eMEOm1O5Oe8m",
        "outputId": "57ddbc00-3ed5-4d80-a761-ed527b4169ca",
        "colab": {
          "base_uri": "https://localhost:8080/"
        }
      },
      "source": [
        "onearray = [random.randint(-100, 100) for i in range(0, 15)]\n",
        "print(onearray)\n",
        "passedrelu = [x if x > 0 else 0 for x in onearray]\n",
        "print(passedrelu)"
      ],
      "execution_count": 176,
      "outputs": [
        {
          "output_type": "stream",
          "text": [
            "[0, -9, 6, 35, -51, 37, 44, 50, 46, -71, 37, -78, 8, 91, 43]\n",
            "[0, 0, 6, 35, 0, 37, 44, 50, 46, 0, 37, 0, 8, 91, 43]\n"
          ],
          "name": "stdout"
        }
      ]
    },
    {
      "cell_type": "markdown",
      "metadata": {
        "id": "2os6mzxFQv3x"
      },
      "source": [
        "### d. acts like a sigmoid function for a 1D array"
      ]
    },
    {
      "cell_type": "code",
      "metadata": {
        "id": "WgbXsMWOPneb",
        "outputId": "1636c5dc-9915-426d-dc8d-c557dfcb0668",
        "colab": {
          "base_uri": "https://localhost:8080/"
        }
      },
      "source": [
        "import math\n",
        "passedsigmoid = [1 / (1 + math.exp(-x)) for x in onearray]\n",
        "print(passedsigmoid)"
      ],
      "execution_count": 177,
      "outputs": [
        {
          "output_type": "stream",
          "text": [
            "[0.5, 0.00012339457598623172, 0.9975273768433653, 0.9999999999999993, 7.095474162284704e-23, 1.0, 1.0, 1.0, 1.0, 1.462486227251231e-31, 1.0, 1.3336148155022612e-34, 0.9996646498695336, 1.0, 1.0]\n"
          ],
          "name": "stdout"
        }
      ]
    },
    {
      "cell_type": "markdown",
      "metadata": {
        "id": "6ST62mbzQ4yY"
      },
      "source": [
        "### e. takes a small character string and shifts all characters by 5 (handle boundary conditions) tsai>>yxfn"
      ]
    },
    {
      "cell_type": "code",
      "metadata": {
        "id": "Qg-padCGR3Uk",
        "outputId": "91f543d5-eca9-41a1-9ae0-212149f75e1c",
        "colab": {
          "base_uri": "https://localhost:8080/"
        }
      },
      "source": [
        "string = 'abcdefghijklmnopqrstuvwxyz'\n",
        "shift = 5\n",
        "res = [chr((ord(letter) - ord('a') + shift) % 26 + ord('a'))  for letter in string]\n",
        "print(''.join(res))"
      ],
      "execution_count": 178,
      "outputs": [
        {
          "output_type": "stream",
          "text": [
            "fghijklmnopqrstuvwxyzabcde\n"
          ],
          "name": "stdout"
        }
      ]
    },
    {
      "cell_type": "markdown",
      "metadata": {
        "id": "ZHR7KMEARCZM"
      },
      "source": [
        "## 3. A list comprehension expression that takes a ~200 word paragraph (write your own paragraph to check), and checks whether it has any of the swear words mentioned in https://github.com/RobertJGabriel/Google-profanity-words/blob/master/list.txt PTS:200"
      ]
    },
    {
      "cell_type": "code",
      "metadata": {
        "id": "V4RvU1s1zgNW",
        "outputId": "73573b08-404a-456b-91fa-cb551217e77b",
        "colab": {
          "base_uri": "https://localhost:8080/"
        }
      },
      "source": [
        "import nltk\n",
        "from nltk import word_tokenize\n",
        "nltk.download('punkt')"
      ],
      "execution_count": 179,
      "outputs": [
        {
          "output_type": "stream",
          "text": [
            "[nltk_data] Downloading package punkt to /root/nltk_data...\n",
            "[nltk_data]   Package punkt is already up-to-date!\n"
          ],
          "name": "stdout"
        },
        {
          "output_type": "execute_result",
          "data": {
            "text/plain": [
              "True"
            ]
          },
          "metadata": {
            "tags": []
          },
          "execution_count": 179
        }
      ]
    },
    {
      "cell_type": "code",
      "metadata": {
        "id": "FmpxcVX4qhjb",
        "outputId": "e73b30d9-89b0-4d73-fcdb-34100c470d75",
        "colab": {
          "base_uri": "https://localhost:8080/"
        }
      },
      "source": [
        "swear_words = open('swear_words.txt', 'r').readlines()\n",
        "swear_words = [word.strip() for word in swear_words]\n",
        "para = \"\"\"\n",
        "But while I was sitting down, I saw something that drove me crazy. Somebody’d written “Fuck you” on the wall. It drove me damn near crazy. I thought how Phoebe and all the other little kids would see it, and how they’d wonder what the hell it meant, and then finally some dirty kid would tell them—all cockeyed, naturally—what it meant, and how they’d all think about it and maybe even worry about it for a couple of days. I kept wanting to kill whoever’d written it. I figured it was some perverty bum that’d sneaked in the school late at night to take a leak or something and then wrote it on the wall. I kept picturing myself catching him at it, and how I’d smash his head on the stone steps till he was good and goddam dead and bloody. But I knew, too, I wouldn’t have the guts to do it. I knew that. That made me even more depressed.\n",
        "\"\"\"\n",
        "\n",
        "tokens = word_tokenize(para)\n",
        "clean_words = [token for token in tokens if token.isalpha()]\n",
        "check_swear = True in [True if x in swear_words else False for x in clean_words]\n",
        "print(check_swear)"
      ],
      "execution_count": 180,
      "outputs": [
        {
          "output_type": "stream",
          "text": [
            "True\n"
          ],
          "name": "stdout"
        }
      ]
    },
    {
      "cell_type": "markdown",
      "metadata": {
        "id": "XFo5wZ1oRKhw"
      },
      "source": [
        "## 4. Using reduce functions: PTS:100"
      ]
    },
    {
      "cell_type": "markdown",
      "metadata": {
        "id": "FMSmnU3FRON5"
      },
      "source": [
        "### a. add only even numbers in a list"
      ]
    },
    {
      "cell_type": "code",
      "metadata": {
        "id": "Ez660tPVtTo1",
        "outputId": "fe0ede56-dd1e-4a2c-9fe6-e753817edfc2",
        "colab": {
          "base_uri": "https://localhost:8080/"
        }
      },
      "source": [
        "from functools import reduce\n",
        "numbers = [random.randint(0, 200) for i in range(0, 12)]\n",
        "# numbers = [2, 6, 4, 10, 1, 3, 5]\n",
        "print(numbers)\n",
        "fn = lambda a , b : a * (not (a & 0x01)) + b * (not (b & 0x01))\n",
        "print(reduce(fn, numbers))"
      ],
      "execution_count": 181,
      "outputs": [
        {
          "output_type": "stream",
          "text": [
            "[131, 177, 92, 68, 124, 104, 31, 50, 164, 197, 10, 113]\n",
            "612\n"
          ],
          "name": "stdout"
        }
      ]
    },
    {
      "cell_type": "markdown",
      "metadata": {
        "id": "OKvutxLBRcAA"
      },
      "source": [
        "### b. find the biggest character in a string (printable ascii characters)"
      ]
    },
    {
      "cell_type": "code",
      "metadata": {
        "id": "aDeWCqED0nm5",
        "outputId": "9f7924dd-11da-4194-a9ec-6b8a7f2620f2",
        "colab": {
          "base_uri": "https://localhost:8080/"
        }
      },
      "source": [
        "string = 'valency'\n",
        "fn = lambda a , b : a if ord(a) > ord(b) else b\n",
        "print(reduce(fn, string))"
      ],
      "execution_count": 182,
      "outputs": [
        {
          "output_type": "stream",
          "text": [
            "y\n"
          ],
          "name": "stdout"
        }
      ]
    },
    {
      "cell_type": "markdown",
      "metadata": {
        "id": "Hw07B7KMRgo3"
      },
      "source": [
        "### c. adds every 3rd number in a list"
      ]
    },
    {
      "cell_type": "code",
      "metadata": {
        "id": "gyALWLle6azc",
        "outputId": "6af61cbd-b1b6-4d18-ced3-472af0745afb",
        "colab": {
          "base_uri": "https://localhost:8080/"
        }
      },
      "source": [
        "numbers = [random.randint(0, 200) for i in range(0, 12)]\n",
        "print(numbers)\n",
        "total = sum([x for (i, x) in enumerate(numbers) if i % 3 == 2])\n",
        "print(total)"
      ],
      "execution_count": 183,
      "outputs": [
        {
          "output_type": "stream",
          "text": [
            "[184, 136, 25, 124, 46, 114, 59, 154, 161, 75, 39, 71]\n",
            "371\n"
          ],
          "name": "stdout"
        }
      ]
    },
    {
      "cell_type": "markdown",
      "metadata": {
        "id": "52W06CzhRphZ"
      },
      "source": [
        "## 5. Using randint, random.choice and list comprehensions, write an expression that generates 15 random KADDAADDDD number plates, where KA is fixed, D stands for a digit, and A stands for Capital alphabets. 10<<DD<<99 & 1000<<DDDD<<9999 PTS:100"
      ]
    },
    {
      "cell_type": "code",
      "metadata": {
        "id": "C-zTxHmf_Qst",
        "outputId": "33b776b0-ef4b-433b-ec4c-0a48c3fe87bb",
        "colab": {
          "base_uri": "https://localhost:8080/"
        }
      },
      "source": [
        "caps = 'ABCDEFGHIJKLMNOPQRSTUVWXYZ'\n",
        "num_plates = ['KA' + \"{:02d}\".format(random.randint(0, 99)) + ''.join([random.choice(caps) for j in range(0, 2)]) + \"{:04d}\".format(random.randint(1000, 9999)) for i in range(0, 15)]\n",
        "print(num_plates)"
      ],
      "execution_count": 184,
      "outputs": [
        {
          "output_type": "stream",
          "text": [
            "['KA80AX8491', 'KA23TO8586', 'KA80HU5213', 'KA34AO6803', 'KA78AN2963', 'KA42EX8605', 'KA24WQ8843', 'KA70MO1590', 'KA27CD8779', 'KA66FC2260', 'KA62HJ2342', 'KA99EJ4957', 'KA22XM2376', 'KA25GB9714', 'KA14TI6925']\n"
          ],
          "name": "stdout"
        }
      ]
    },
    {
      "cell_type": "markdown",
      "metadata": {
        "id": "qdx5Q9k4RsMQ"
      },
      "source": [
        "## 6. Write the above again from scratch where KA can be changed to DL, and 1000/9999 ranges can be provided. PTS:100"
      ]
    },
    {
      "cell_type": "code",
      "metadata": {
        "id": "VwpeBykOGNHR",
        "outputId": "abc6c017-394f-4123-f0e0-a3bc3abaa174",
        "colab": {
          "base_uri": "https://localhost:8080/"
        }
      },
      "source": [
        "def get_number_plates(state, rangelower, rangeupper):\n",
        "    num_plates = [state + \"{:02d}\".format(random.randint(0, 99)) + ''.join([random.choice(caps) for j in range(0, 2)]) + \"{:04d}\".format(random.randint(rangelower, rangeupper)) for i in range(0, 15)]\n",
        "    return num_plates\n",
        "\n",
        "print(get_number_plates('DL', 2000, 2999))"
      ],
      "execution_count": 185,
      "outputs": [
        {
          "output_type": "stream",
          "text": [
            "['DL99IV2677', 'DL03KQ2399', 'DL86LD2564', 'DL25IU2818', 'DL09DP2821', 'DL21DM2757', 'DL14QQ2054', 'DL51AX2827', 'DL53HW2214', 'DL49QS2728', 'DL91ZU2917', 'DL18QW2034', 'DL85QS2357', 'DL29ER2675', 'DL09NN2912']\n"
          ],
          "name": "stdout"
        }
      ]
    },
    {
      "cell_type": "code",
      "metadata": {
        "id": "t4x9pFqzL0bQ"
      },
      "source": [
        ""
      ],
      "execution_count": 185,
      "outputs": []
    }
  ]
}