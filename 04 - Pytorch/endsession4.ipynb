{
  "nbformat": 4,
  "nbformat_minor": 0,
  "metadata": {
    "colab": {
      "name": "session4",
      "provenance": [],
      "collapsed_sections": []
    },
    "kernelspec": {
      "name": "python3",
      "display_name": "Python 3"
    },
    "accelerator": "GPU"
  },
  "cells": [
    {
      "cell_type": "code",
      "metadata": {
        "id": "3vNGwjpbbhAh"
      },
      "source": [
        "import torch\n",
        "import torch.nn as nn\n",
        "from torchtext import data\n",
        "from torchtext import datasets\n",
        "from torchtext import datasets\n",
        "import random\n",
        "import time\n",
        "import torch.optim as optim"
      ],
      "execution_count": 1,
      "outputs": []
    },
    {
      "cell_type": "code",
      "metadata": {
        "id": "oiHhGU3sTbX7"
      },
      "source": [
        "SEED = 1234\n",
        "torch.manual_seed(SEED)\n",
        "torch.backends.cudnn.deterministic = True"
      ],
      "execution_count": 2,
      "outputs": []
    },
    {
      "cell_type": "code",
      "metadata": {
        "id": "NYezAnxBboSA"
      },
      "source": [
        "TEXT = data.Field(tokenize = 'spacy', include_lengths = True)\n",
        "LABEL = data.LabelField(dtype = torch.float)\n",
        "\n",
        "train_data, test_data = datasets.IMDB.splits(TEXT, LABEL)\n",
        "train_data, valid_data = train_data.split(random_state = random.seed(SEED))"
      ],
      "execution_count": 3,
      "outputs": []
    },
    {
      "cell_type": "code",
      "metadata": {
        "colab": {
          "base_uri": "https://localhost:8080/"
        },
        "id": "GVyNRNu3c5yx",
        "outputId": "a384913a-5b85-45b8-bc88-dcb250440bc8"
      },
      "source": [
        "print(vars(train_data.examples[0]))"
      ],
      "execution_count": 4,
      "outputs": [
        {
          "output_type": "stream",
          "text": [
            "{'text': ['This', 'movie', ',', 'supposedly', 'a', 'thriller', ',', 'had', 'about', 'five', 'sub', '-', 'plots', 'that', 'developed', 'simultaneously', 'to', 'climax', 'at', 'the', 'end', ',', 'but', 'it', 'ended', 'up', 'more', 'as', 'a', 'yawn.<br', '/><br', '/>The', 'writing', 'was', 'trite', ',', 'the', 'pace', 'was', 'slow', 'and', 'disjointed', 'and', 'the', 'characters', 'were', 'boring', '.', 'George', 'Clooney', 'looks', 'like', 'he', 'needs', 'to', 'get', 'into', 'a', 'gym', ',', 'Matt', 'Damon', 'hammed', 'it', 'up', 'and', 'the', 'others', 'seemed', 'to', 'read', 'their', 'lines', 'from', 'a', 'teleprompter.<br', '/><br', '/>The', 'worst', 'part', 'of', 'this', 'movie', 'was', 'that', 'it', 'was', 'carefully', 'crafted', 'to', 'be', 'politically', 'correct', 'and', 'so', 'it', 'ended', 'up', 'saying', 'nothing', 'at', 'all', 'about', 'big', 'business', ',', 'oil', 'and', 'the', 'Middle', '-', 'East', '.', 'I', 'have', 'seen', 'documentaries', 'provide', 'more', 'excitement', '.', 'Watch', 'it', 'only', 'if', 'there', \"'s\", 'absolutely', 'nothing', 'else', 'to', 'do', '.'], 'label': 'neg'}\n"
          ],
          "name": "stdout"
        }
      ]
    },
    {
      "cell_type": "code",
      "metadata": {
        "id": "_nUQ9yqzczLq"
      },
      "source": [
        "for i in range(len(train_data)):\n",
        "  vars(train_data.examples[i]).get('text').reverse()"
      ],
      "execution_count": 5,
      "outputs": []
    },
    {
      "cell_type": "code",
      "metadata": {
        "colab": {
          "base_uri": "https://localhost:8080/"
        },
        "id": "KzFSIaZuc8Up",
        "outputId": "4e3b7385-b6a1-41cd-f0a5-e3caffb26311"
      },
      "source": [
        "print(vars(train_data.examples[0]))"
      ],
      "execution_count": 6,
      "outputs": [
        {
          "output_type": "stream",
          "text": [
            "{'text': ['.', 'do', 'to', 'else', 'nothing', 'absolutely', \"'s\", 'there', 'if', 'only', 'it', 'Watch', '.', 'excitement', 'more', 'provide', 'documentaries', 'seen', 'have', 'I', '.', 'East', '-', 'Middle', 'the', 'and', 'oil', ',', 'business', 'big', 'about', 'all', 'at', 'nothing', 'saying', 'up', 'ended', 'it', 'so', 'and', 'correct', 'politically', 'be', 'to', 'crafted', 'carefully', 'was', 'it', 'that', 'was', 'movie', 'this', 'of', 'part', 'worst', '/>The', '/><br', 'teleprompter.<br', 'a', 'from', 'lines', 'their', 'read', 'to', 'seemed', 'others', 'the', 'and', 'up', 'it', 'hammed', 'Damon', 'Matt', ',', 'gym', 'a', 'into', 'get', 'to', 'needs', 'he', 'like', 'looks', 'Clooney', 'George', '.', 'boring', 'were', 'characters', 'the', 'and', 'disjointed', 'and', 'slow', 'was', 'pace', 'the', ',', 'trite', 'was', 'writing', '/>The', '/><br', 'yawn.<br', 'a', 'as', 'more', 'up', 'ended', 'it', 'but', ',', 'end', 'the', 'at', 'climax', 'to', 'simultaneously', 'developed', 'that', 'plots', '-', 'sub', 'five', 'about', 'had', ',', 'thriller', 'a', 'supposedly', ',', 'movie', 'This'], 'label': 'neg'}\n"
          ],
          "name": "stdout"
        }
      ]
    },
    {
      "cell_type": "code",
      "metadata": {
        "id": "NhTHVAojbvD1"
      },
      "source": [
        "MAX_VOCAB_SIZE = 25000\n",
        "\n",
        "TEXT.build_vocab(train_data, \n",
        "                 max_size = MAX_VOCAB_SIZE, \n",
        "                 vectors = \"glove.6B.100d\", \n",
        "                 unk_init = torch.Tensor.normal_)\n",
        "\n",
        "LABEL.build_vocab(train_data)"
      ],
      "execution_count": 7,
      "outputs": []
    },
    {
      "cell_type": "code",
      "metadata": {
        "id": "jkDEPcpFb0XC"
      },
      "source": [
        "BATCH_SIZE = 64\n",
        "\n",
        "device = torch.device('cuda' if torch.cuda.is_available() else 'cpu')\n",
        "\n",
        "train_iterator, valid_iterator, test_iterator = data.BucketIterator.splits(\n",
        "    (train_data, valid_data, test_data), \n",
        "    batch_size = BATCH_SIZE,\n",
        "    sort_within_batch = True,\n",
        "    device = device)"
      ],
      "execution_count": 8,
      "outputs": []
    },
    {
      "cell_type": "code",
      "metadata": {
        "id": "RSWQpgu-KnUN"
      },
      "source": [
        "def binary_accuracy(preds, y):\n",
        "    \"\"\"\n",
        "    Returns accuracy per batch, i.e. if you get 8/10 right, this returns 0.8, NOT 8\n",
        "    \"\"\"\n",
        "    #round predictions to the closest integer\n",
        "    rounded_preds = torch.round(torch.sigmoid(preds))\n",
        "    correct = (rounded_preds == y).float() #convert into float for division \n",
        "    acc = correct.sum() / len(correct)\n",
        "    return acc"
      ],
      "execution_count": 11,
      "outputs": []
    },
    {
      "cell_type": "code",
      "metadata": {
        "id": "H8vgn1udGH6P"
      },
      "source": [
        "def train(model, iterator, optimizer, criterion):\n",
        "    \n",
        "    epoch_loss = 0\n",
        "    epoch_acc = 0\n",
        "\n",
        "    model.train()\n",
        "    \n",
        "    for batch in iterator:\n",
        "        optimizer.zero_grad()\n",
        "        text, text_lengths = batch.text\n",
        "        text_lengths = text_lengths.cpu()\n",
        "        predictions = model(text, text_lengths).squeeze(1)\n",
        "        loss = criterion(predictions, batch.label)\n",
        "        acc = binary_accuracy(predictions, batch.label)\n",
        "        loss.backward()\n",
        "        optimizer.step()\n",
        "        \n",
        "        epoch_loss += loss.item()\n",
        "        epoch_acc += acc.item()\n",
        "        \n",
        "    return epoch_loss / len(iterator), epoch_acc / len(iterator)"
      ],
      "execution_count": 12,
      "outputs": []
    },
    {
      "cell_type": "code",
      "metadata": {
        "id": "-D2rO6f5GASk"
      },
      "source": [
        "def evaluate(model, iterator, criterion):\n",
        "    \n",
        "    epoch_loss = 0\n",
        "    epoch_acc = 0\n",
        "    \n",
        "    model.eval()\n",
        "    \n",
        "    with torch.no_grad():\n",
        "        for batch in iterator:\n",
        "            text, text_lengths = batch.text\n",
        "            text_lengths = text_lengths.cpu()\n",
        "            predictions = model(text, text_lengths).squeeze(1)\n",
        "            loss = criterion(predictions, batch.label)\n",
        "            acc = binary_accuracy(predictions, batch.label)\n",
        "\n",
        "            epoch_loss += loss.item()\n",
        "            epoch_acc += acc.item()\n",
        "        \n",
        "    return epoch_loss / len(iterator), epoch_acc / len(iterator)"
      ],
      "execution_count": 13,
      "outputs": []
    },
    {
      "cell_type": "code",
      "metadata": {
        "id": "ukxADSb_lrRu"
      },
      "source": [
        "class RNN(nn.Module):\n",
        "    def __init__(self, vocab_size, embedding_dim, hidden_dim, output_dim, \n",
        "                 bidirectional, dropout, pad_idx):\n",
        "        \n",
        "        super().__init__()\n",
        "        self.factor = 2 if bidirectional else 1\n",
        "        self.embedding = nn.Embedding(vocab_size, embedding_dim, padding_idx = pad_idx)\n",
        "        self.rnn = nn.ModuleList([\n",
        "                                  nn.LSTM(embedding_dim, hidden_dim, bidirectional = bidirectional),\n",
        "                                  nn.Dropout(dropout),\n",
        "                                  nn.LSTM(hidden_dim * self.factor, hidden_dim, bidirectional = bidirectional),\n",
        "                                #   nn.Dropout(dropout),\n",
        "                                  nn.LSTM(hidden_dim * self.factor, hidden_dim, bidirectional = bidirectional),\n",
        "        ])\n",
        "        self.fc = nn.Linear(hidden_dim * self.factor, output_dim)\n",
        "        self.dropout = nn.Dropout(dropout)\n",
        "\n",
        "    def forward(self, text, text_lengths):\n",
        "\n",
        "        embedded = self.dropout(self.embedding(text))\n",
        "                \n",
        "        packed_embedded = nn.utils.rnn.pack_padded_sequence(embedded, text_lengths)\n",
        "        for layer in self.rnn:\n",
        "            if not isinstance(layer, torch.nn.modules.dropout.Dropout):\n",
        "                packed_embedded, (hidden, cell) = layer(packed_embedded)\n",
        "            else:\n",
        "                packed_embedded, packed_lengths = nn.utils.rnn.pad_packed_sequence(packed_embedded)\n",
        "                packed_embedded = nn.utils.rnn.pack_padded_sequence(layer(packed_embedded), packed_lengths)\n",
        " \n",
        "        hidden = self.dropout(torch.cat((hidden[-2,:,:], hidden[-1,:,:]), dim = 1)) if self.factor == 2 else self.dropout(hidden[-1,:,:])\n",
        "        return self.fc(hidden)"
      ],
      "execution_count": 123,
      "outputs": []
    },
    {
      "cell_type": "code",
      "metadata": {
        "id": "qf4V2EP6l-Bv"
      },
      "source": [
        "INPUT_DIM = len(TEXT.vocab)\n",
        "EMBEDDING_DIM = 100\n",
        "HIDDEN_DIM = 64\n",
        "OUTPUT_DIM = 1\n",
        "BIDIRECTIONAL = True\n",
        "DROPOUT = 0.2\n",
        "PAD_IDX = TEXT.vocab.stoi[TEXT.pad_token]\n",
        "\n",
        "model = RNN(INPUT_DIM, \n",
        "            EMBEDDING_DIM, \n",
        "            HIDDEN_DIM, \n",
        "            OUTPUT_DIM, \n",
        "            BIDIRECTIONAL, \n",
        "            DROPOUT, \n",
        "            PAD_IDX).to(device)"
      ],
      "execution_count": 124,
      "outputs": []
    },
    {
      "cell_type": "code",
      "metadata": {
        "colab": {
          "base_uri": "https://localhost:8080/"
        },
        "id": "UPrRPOoFeokQ",
        "outputId": "1aeca7bd-4a93-4df8-965b-85695bac6431"
      },
      "source": [
        "pretrained_embeddings = TEXT.vocab.vectors\n",
        "print(pretrained_embeddings.shape)"
      ],
      "execution_count": 125,
      "outputs": [
        {
          "output_type": "stream",
          "text": [
            "torch.Size([25002, 100])\n"
          ],
          "name": "stdout"
        }
      ]
    },
    {
      "cell_type": "code",
      "metadata": {
        "colab": {
          "base_uri": "https://localhost:8080/"
        },
        "id": "3untO0NVes60",
        "outputId": "26b858fb-5f39-432b-d921-1f93b74f1846"
      },
      "source": [
        "model.embedding.weight.data.copy_(pretrained_embeddings)"
      ],
      "execution_count": 126,
      "outputs": [
        {
          "output_type": "execute_result",
          "data": {
            "text/plain": [
              "tensor([[-0.1117, -0.4966,  0.1631,  ...,  1.2647, -0.2753, -0.1325],\n",
              "        [-0.8555, -0.7208,  1.3755,  ...,  0.0825, -1.1314,  0.3997],\n",
              "        [-0.0382, -0.2449,  0.7281,  ..., -0.1459,  0.8278,  0.2706],\n",
              "        ...,\n",
              "        [-0.1830, -1.1160,  2.3601,  ..., -1.6465,  0.2431,  0.5666],\n",
              "        [-0.2326, -1.2659, -1.1949,  ...,  0.9952, -0.0324, -0.1769],\n",
              "        [-0.6184,  0.0806,  1.7381,  ...,  0.0445, -0.5604, -0.3227]],\n",
              "       device='cuda:0')"
            ]
          },
          "metadata": {
            "tags": []
          },
          "execution_count": 126
        }
      ]
    },
    {
      "cell_type": "code",
      "metadata": {
        "colab": {
          "base_uri": "https://localhost:8080/"
        },
        "id": "f2IQYYUnewKy",
        "outputId": "b6781bee-09a5-49f4-8d2f-1df2c56f7243"
      },
      "source": [
        "UNK_IDX = TEXT.vocab.stoi[TEXT.unk_token]\n",
        "model.embedding.weight.data[UNK_IDX] = torch.zeros(EMBEDDING_DIM)\n",
        "model.embedding.weight.data[PAD_IDX] = torch.zeros(EMBEDDING_DIM)\n",
        "\n",
        "print(model.embedding.weight.data)"
      ],
      "execution_count": 127,
      "outputs": [
        {
          "output_type": "stream",
          "text": [
            "tensor([[ 0.0000,  0.0000,  0.0000,  ...,  0.0000,  0.0000,  0.0000],\n",
            "        [ 0.0000,  0.0000,  0.0000,  ...,  0.0000,  0.0000,  0.0000],\n",
            "        [-0.0382, -0.2449,  0.7281,  ..., -0.1459,  0.8278,  0.2706],\n",
            "        ...,\n",
            "        [-0.1830, -1.1160,  2.3601,  ..., -1.6465,  0.2431,  0.5666],\n",
            "        [-0.2326, -1.2659, -1.1949,  ...,  0.9952, -0.0324, -0.1769],\n",
            "        [-0.6184,  0.0806,  1.7381,  ...,  0.0445, -0.5604, -0.3227]],\n",
            "       device='cuda:0')\n"
          ],
          "name": "stdout"
        }
      ]
    },
    {
      "cell_type": "code",
      "metadata": {
        "colab": {
          "base_uri": "https://localhost:8080/"
        },
        "id": "jA1m5BlYWZF1",
        "outputId": "9b80bcc7-c24b-4f0b-9d0b-103a6ee22314"
      },
      "source": [
        "def count_parameters(model):\n",
        "    return sum(p.numel() for p in model.parameters() if p.requires_grad)\n",
        "\n",
        "print(f'The model has {count_parameters(model):,} trainable parameters')"
      ],
      "execution_count": 128,
      "outputs": [
        {
          "output_type": "stream",
          "text": [
            "The model has 2,783,977 trainable parameters\n"
          ],
          "name": "stdout"
        }
      ]
    },
    {
      "cell_type": "code",
      "metadata": {
        "id": "I-hYhLJLfJXq"
      },
      "source": [
        "\n",
        "optimizer = optim.Adam(model.parameters())\n",
        "criterion = nn.BCEWithLogitsLoss()\n",
        "criterion = criterion.to(device)\n"
      ],
      "execution_count": 129,
      "outputs": []
    },
    {
      "cell_type": "code",
      "metadata": {
        "id": "5EHxZpGlfagv"
      },
      "source": [
        "def epoch_time(start_time, end_time):\n",
        "    elapsed_time = end_time - start_time\n",
        "    elapsed_mins = int(elapsed_time / 60)\n",
        "    elapsed_secs = int(elapsed_time - (elapsed_mins * 60))\n",
        "    return elapsed_mins, elapsed_secs\n",
        "\n"
      ],
      "execution_count": 130,
      "outputs": []
    },
    {
      "cell_type": "code",
      "metadata": {
        "id": "WzpqVrnLfdZr",
        "colab": {
          "base_uri": "https://localhost:8080/"
        },
        "outputId": "040d2bdb-e919-4665-8740-936d956cb0d7"
      },
      "source": [
        "N_EPOCHS = 15\n",
        "\n",
        "best_valid_loss = float('inf')\n",
        "\n",
        "for epoch in range(N_EPOCHS):\n",
        "\n",
        "    start_time = time.time()\n",
        "    \n",
        "    train_loss, train_acc = train(model, train_iterator, optimizer, criterion)\n",
        "    valid_loss, valid_acc = evaluate(model, valid_iterator, criterion)\n",
        "    \n",
        "    end_time = time.time()\n",
        "\n",
        "    epoch_mins, epoch_secs = epoch_time(start_time, end_time)\n",
        "    \n",
        "    if valid_loss < best_valid_loss:\n",
        "        best_valid_loss = valid_loss\n",
        "        torch.save(model.state_dict(), 'tut2-model.pt')\n",
        "    \n",
        "    print(f'Epoch: {epoch+1:02} | Epoch Time: {epoch_mins}m {epoch_secs}s')\n",
        "    print(f'\\tTrain Loss: {train_loss:.3f} | Train Acc: {train_acc*100:.2f}%')\n",
        "    print(f'\\t Val. Loss: {valid_loss:.3f} |  Val. Acc: {valid_acc*100:.2f}%')"
      ],
      "execution_count": 131,
      "outputs": [
        {
          "output_type": "stream",
          "text": [
            "Epoch: 01 | Epoch Time: 0m 28s\n",
            "\tTrain Loss: 0.601 | Train Acc: 66.29%\n",
            "\t Val. Loss: 0.479 |  Val. Acc: 77.82%\n",
            "Epoch: 02 | Epoch Time: 0m 27s\n",
            "\tTrain Loss: 0.539 | Train Acc: 72.73%\n",
            "\t Val. Loss: 0.438 |  Val. Acc: 80.86%\n",
            "Epoch: 03 | Epoch Time: 0m 27s\n",
            "\tTrain Loss: 0.503 | Train Acc: 76.48%\n",
            "\t Val. Loss: 0.604 |  Val. Acc: 67.99%\n",
            "Epoch: 04 | Epoch Time: 0m 27s\n",
            "\tTrain Loss: 0.413 | Train Acc: 81.31%\n",
            "\t Val. Loss: 0.480 |  Val. Acc: 80.70%\n",
            "Epoch: 05 | Epoch Time: 0m 27s\n",
            "\tTrain Loss: 0.274 | Train Acc: 89.09%\n",
            "\t Val. Loss: 0.420 |  Val. Acc: 84.59%\n",
            "Epoch: 06 | Epoch Time: 0m 27s\n",
            "\tTrain Loss: 0.246 | Train Acc: 90.64%\n",
            "\t Val. Loss: 0.302 |  Val. Acc: 87.89%\n",
            "Epoch: 07 | Epoch Time: 0m 27s\n",
            "\tTrain Loss: 0.194 | Train Acc: 92.83%\n",
            "\t Val. Loss: 0.305 |  Val. Acc: 87.69%\n",
            "Epoch: 08 | Epoch Time: 0m 27s\n",
            "\tTrain Loss: 0.151 | Train Acc: 94.59%\n",
            "\t Val. Loss: 0.352 |  Val. Acc: 87.73%\n",
            "Epoch: 09 | Epoch Time: 0m 27s\n",
            "\tTrain Loss: 0.124 | Train Acc: 95.73%\n",
            "\t Val. Loss: 0.337 |  Val. Acc: 88.37%\n",
            "Epoch: 10 | Epoch Time: 0m 27s\n",
            "\tTrain Loss: 0.102 | Train Acc: 96.69%\n",
            "\t Val. Loss: 0.327 |  Val. Acc: 88.25%\n",
            "Epoch: 11 | Epoch Time: 0m 27s\n",
            "\tTrain Loss: 0.140 | Train Acc: 95.08%\n",
            "\t Val. Loss: 0.364 |  Val. Acc: 86.48%\n",
            "Epoch: 12 | Epoch Time: 0m 28s\n",
            "\tTrain Loss: 0.118 | Train Acc: 96.22%\n",
            "\t Val. Loss: 0.377 |  Val. Acc: 87.65%\n",
            "Epoch: 13 | Epoch Time: 0m 27s\n",
            "\tTrain Loss: 0.098 | Train Acc: 96.94%\n",
            "\t Val. Loss: 0.383 |  Val. Acc: 87.91%\n",
            "Epoch: 14 | Epoch Time: 0m 27s\n",
            "\tTrain Loss: 0.053 | Train Acc: 98.44%\n",
            "\t Val. Loss: 0.425 |  Val. Acc: 88.08%\n",
            "Epoch: 15 | Epoch Time: 0m 27s\n",
            "\tTrain Loss: 0.109 | Train Acc: 96.55%\n",
            "\t Val. Loss: 0.412 |  Val. Acc: 87.85%\n"
          ],
          "name": "stdout"
        }
      ]
    },
    {
      "cell_type": "code",
      "metadata": {
        "id": "JQ2zNxvUfgq9",
        "colab": {
          "base_uri": "https://localhost:8080/"
        },
        "outputId": "e622d74a-eaa5-47f2-b0fa-484d79c7a6e3"
      },
      "source": [
        "model.load_state_dict(torch.load('tut2-model.pt'))\n",
        "\n",
        "test_loss, test_acc = evaluate(model, test_iterator, criterion)\n",
        "\n",
        "print(f'Test Loss: {test_loss:.3f} | Test Acc: {test_acc*100:.2f}%')"
      ],
      "execution_count": 132,
      "outputs": [
        {
          "output_type": "stream",
          "text": [
            "Test Loss: 0.335 | Test Acc: 86.64%\n"
          ],
          "name": "stdout"
        }
      ]
    },
    {
      "cell_type": "code",
      "metadata": {
        "id": "wWWXNgaxHMOt"
      },
      "source": [
        "import spacy\n",
        "nlp = spacy.load('en')\n",
        "\n",
        "def predict_sentiment(model, sentence):\n",
        "    model.eval()\n",
        "    tokenized = [tok.text for tok in nlp.tokenizer(sentence)]\n",
        "    indexed = [TEXT.vocab.stoi[t] for t in tokenized]\n",
        "    length = [len(indexed)]\n",
        "    tensor = torch.LongTensor(indexed).to(device)\n",
        "    tensor = tensor.unsqueeze(1)\n",
        "    length_tensor = torch.LongTensor(length)\n",
        "    prediction = torch.sigmoid(model(tensor, length_tensor))\n",
        "    return prediction.item()"
      ],
      "execution_count": 133,
      "outputs": []
    },
    {
      "cell_type": "code",
      "metadata": {
        "colab": {
          "base_uri": "https://localhost:8080/"
        },
        "id": "6_LsWhOVhB3D",
        "outputId": "8563223e-2324-4ba5-c4a6-1cd1a92b67ce"
      },
      "source": [
        "predict_sentiment(model, \"This film is bad\")"
      ],
      "execution_count": 134,
      "outputs": [
        {
          "output_type": "execute_result",
          "data": {
            "text/plain": [
              "0.08215125650167465"
            ]
          },
          "metadata": {
            "tags": []
          },
          "execution_count": 134
        }
      ]
    },
    {
      "cell_type": "code",
      "metadata": {
        "colab": {
          "base_uri": "https://localhost:8080/"
        },
        "id": "uArBK0N_hD0h",
        "outputId": "6d0f2d70-3cd1-4ef8-cc8d-f9c09678f7d7"
      },
      "source": [
        "predict_sentiment(model, \"This film is great\")"
      ],
      "execution_count": 135,
      "outputs": [
        {
          "output_type": "execute_result",
          "data": {
            "text/plain": [
              "0.9392727017402649"
            ]
          },
          "metadata": {
            "tags": []
          },
          "execution_count": 135
        }
      ]
    },
    {
      "cell_type": "code",
      "metadata": {
        "id": "Yadt0LEo0FAC"
      },
      "source": [
        ""
      ],
      "execution_count": null,
      "outputs": []
    }
  ]
}